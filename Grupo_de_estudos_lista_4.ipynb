{
  "nbformat": 4,
  "nbformat_minor": 0,
  "metadata": {
    "colab": {
      "name": "Grupo de estudos - lista 4.ipynb",
      "provenance": [],
      "private_outputs": true,
      "include_colab_link": true
    },
    "kernelspec": {
      "name": "python3",
      "display_name": "Python 3"
    }
  },
  "cells": [
    {
      "cell_type": "markdown",
      "metadata": {
        "id": "view-in-github",
        "colab_type": "text"
      },
      "source": [
        "<a href=\"https://colab.research.google.com/github/WellingtonEspindula/computacao-cientifica-python/blob/master/Grupo_de_estudos_lista_4.ipynb\" target=\"_parent\"><img src=\"https://colab.research.google.com/assets/colab-badge.svg\" alt=\"Open In Colab\"/></a>"
      ]
    },
    {
      "cell_type": "markdown",
      "metadata": {
        "id": "W_IjZg5Cf5W-",
        "colab_type": "text"
      },
      "source": [
        "# Lista 4 - Traçado de gráficos\n",
        "\n",
        "# Questão 1\n",
        "\n",
        "Entre em https://madnight.github.io/githut/#/pull_requests/2020/1\n",
        "\n",
        "Trace um gráfico de pizza (pie chart) mostrando o percentual de uso das cinco linguagens mais populares no github (use o critério pull requests). Crie uma sexta fatia chamada 'outros'."
      ]
    },
    {
      "cell_type": "code",
      "metadata": {
        "id": "4UQZ0SRGXvNF",
        "colab_type": "code",
        "colab": {}
      },
      "source": [
        "# Espaço para trabalhar\n"
      ],
      "execution_count": 0,
      "outputs": []
    },
    {
      "cell_type": "markdown",
      "metadata": {
        "id": "8rO_4heeXxqm",
        "colab_type": "text"
      },
      "source": [
        "# Questão 2\n",
        "As listas abaixos indicam a população do Brasil em milhões de habitantes entre 1890 e 2000. Trace um gráfico mostrando a evolução"
      ]
    },
    {
      "cell_type": "code",
      "metadata": {
        "id": "TWeVnifyfg4s",
        "colab_type": "code",
        "colab": {}
      },
      "source": [
        "# Espaço para trabalhar\n",
        "\n",
        "anos = [1890, 1900, 1920, 1940, 1950, 1960, 1970, 1980, 1991, 1996, 2000] \n",
        "contagens = [14.333915, 17.438434, 30.635605, 41.236315, 51.944397, 72.191370, \n",
        "             93.139037, 119.002706, 146.825475, 157.070163, 166.112500]"
      ],
      "execution_count": 0,
      "outputs": []
    },
    {
      "cell_type": "markdown",
      "metadata": {
        "id": "J8Em8TTgX00r",
        "colab_type": "text"
      },
      "source": [
        "# Questão 3\n",
        "\n",
        "O primeiro formulário abaixo pede o upload do arquivo vendas.csv, logo em seguida o arquvo é aberto do espaço virtual. A lista gerada traz as vendas de uma indústria entre janeiro de 2015 e agosto de 2018.\n",
        "\n",
        "1. Explore o arquivo e entenda os dados.\n",
        "2. Trace um gráfico mostrando a evolução de vendas.\n",
        "3. Seu gráfico deve mostrar a média e o intervalo interquartil.\n",
        "\n",
        "* Se você tiver problemas com múltiplos uploads, tente \"Factory reset runtime\" no menu Runtime."
      ]
    },
    {
      "cell_type": "code",
      "metadata": {
        "id": "b6ArzaMNX2_V",
        "colab_type": "code",
        "colab": {}
      },
      "source": [
        "from google.colab import files\n",
        "upfiles = files.upload()"
      ],
      "execution_count": 0,
      "outputs": []
    },
    {
      "cell_type": "code",
      "metadata": {
        "id": "Qn5vNFvMYB9Y",
        "colab_type": "code",
        "colab": {}
      },
      "source": [
        "import csv\n",
        "with open('vendas.csv') as csvfile:\n",
        "    conteudo = csv.reader(csvfile, delimiter=',', quotechar=\"'\")\n",
        "    vendas_ano_mes = [*conteudo]"
      ],
      "execution_count": 0,
      "outputs": []
    },
    {
      "cell_type": "code",
      "metadata": {
        "id": "JF8XteZ0niaT",
        "colab_type": "code",
        "colab": {}
      },
      "source": [
        "# Espaço para trabalhar\n",
        "print(vendas_ano_mes)"
      ],
      "execution_count": 0,
      "outputs": []
    }
  ]
}