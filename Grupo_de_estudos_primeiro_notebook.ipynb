{
  "nbformat": 4,
  "nbformat_minor": 0,
  "metadata": {
    "colab": {
      "name": "Grupo de estudos primeiro notebook.ipynb",
      "provenance": [],
      "collapsed_sections": [],
      "include_colab_link": true
    },
    "kernelspec": {
      "name": "python3",
      "display_name": "Python 3"
    }
  },
  "cells": [
    {
      "cell_type": "markdown",
      "metadata": {
        "id": "view-in-github",
        "colab_type": "text"
      },
      "source": [
        "<a href=\"https://colab.research.google.com/github/WellingtonEspindula/computacao-cientifica-python/blob/master/Grupo_de_estudos_primeiro_notebook.ipynb\" target=\"_parent\"><img src=\"https://colab.research.google.com/assets/colab-badge.svg\" alt=\"Open In Colab\"/></a>"
      ]
    },
    {
      "cell_type": "markdown",
      "metadata": {
        "id": "bwoycVHhKOc6",
        "colab_type": "text"
      },
      "source": [
        "# Sejam bem-vindos.\n",
        "Grupo de estudo Python - COVID-19\n",
        "\n",
        "* Vocês podem acessar esta página no link dado no chat.\n",
        "\n",
        "#Python\n",
        "Python é uma linguagem de programação de alto nível, interpretada, orientada a objetos lançada por Guido van Rossum em 1991.\n",
        "\n",
        "A linguagem prioriza legibilidade do código em detrimento de performance. \n",
        "\n",
        "Atualmente é uma das linguagens de programação mais populares. Tem sido muito usada em computação científica, análise de dados, estatística e integência artificial.\n",
        "\n",
        "O nome Python se deve ao grupo humorístico britânico Monty Python.\n",
        "\n",
        "Você pode trabalhar no Python no modo console, script e notebook.\n",
        "#Documentação:\n",
        "\n",
        "* https://www.python.org/\n",
        "* https://jupyter.org/\n",
        "\n",
        "#Espaço para trabalhar\n",
        "* Crie um notebook próprio para realizar as atividades. (File, new notebook)\n",
        "* Você também pode fazer uma cópia desde notebook. (File, Save a copy in Drive)\n",
        "* Se desejar, instale o Python no seu PC.\n",
        "\n",
        "#Indentação e numeração de páginas\n",
        "No Python, indentação é sintática.\n",
        "\n",
        "Configurem o editor para indentar com 4 espaços e mostrar número de linha. (Tools, Settings, Editor)\n",
        "\n",
        "#The Zen of Python, by Tim Peters\n",
        "* Beautiful is better than ugly.\n",
        "* Explicit is better than implicit.\n",
        "* Simple is better than complex.\n",
        "* Complex is better than complicated.\n",
        "* Flat is better than nested.\n",
        "* Sparse is better than dense.\n",
        "* Readability counts.\n",
        "* Special cases aren't special enough to break the rules.\n",
        "* Although practicality beats purity.\n",
        "* Errors should never pass silently.\n",
        "* Unless explicitly silenced.\n",
        "* In the face of ambiguity, refuse the temptation to guess.\n",
        "* There should be one-- and preferably only one --obvious way to do it.\n",
        "* Although that way may not be obvious at first unless you're Dutch.\n",
        "* Now is better than never.\n",
        "* Although never is often better than *right* now.\n",
        "* If the implementation is hard to explain, it's a bad idea.\n",
        "* If the implementation is easy to explain, it may be a good idea.\n",
        "* Namespaces are one honking great idea -- let's do more of those!\n"
      ]
    },
    {
      "cell_type": "code",
      "metadata": {
        "id": "QFC8-H-R9dzO",
        "colab_type": "code",
        "outputId": "53dff574-dd9d-4841-a16d-ae3a192eede1",
        "colab": {
          "base_uri": "https://localhost:8080/",
          "height": 34
        }
      },
      "source": [
        "# Tipos e nomes de variáveis\n",
        "# Não é necessário declarar o tipo de variável, \n",
        "# o interpretador define pelo contexto.\n",
        "# Simplemente use o operador de atribuição\n",
        "\n",
        "x = 150                 # Inteiro\n",
        "y = 2.3                 # Float\n",
        "z = \"Eu amo Python\"     # String\n",
        "X = 10\n",
        "\n",
        "x = 150**30 + 87\n",
        "print(x, y, z, X)          # Apresenta o valor das variáveis na tela. \n",
        "                          # Você pode listar quantas variáveis quiser."
      ],
      "execution_count": 0,
      "outputs": [
        {
          "output_type": "stream",
          "text": [
            "191751059232884086668491363525390625000000000000000000000000000087 2.3 Eu amo Python 10\n"
          ],
          "name": "stdout"
        }
      ]
    },
    {
      "cell_type": "code",
      "metadata": {
        "id": "NBaDp4Yf-dHw",
        "colab_type": "code",
        "outputId": "9bc5b35d-6cab-4fc9-ef45-0f9343e9d0aa",
        "colab": {
          "base_uri": "https://localhost:8080/",
          "height": 34
        }
      },
      "source": [
        "# Operações básicas\n",
        "\n",
        "x = 10*20 + 30          \n",
        "\n",
        "y = 2/3 - 2**3          # O operador ** implementa potência.\n",
        "\n",
        "print(x, y)\n",
        "\n"
      ],
      "execution_count": 0,
      "outputs": [
        {
          "output_type": "stream",
          "text": [
            "230 -7.333333333333333\n"
          ],
          "name": "stdout"
        }
      ]
    },
    {
      "cell_type": "code",
      "metadata": {
        "id": "gSOThuXLDoVT",
        "colab_type": "code",
        "outputId": "a6aa5a1a-fe27-4172-8a9b-f1c0ae5cfe5e",
        "colab": {
          "base_uri": "https://localhost:8080/",
          "height": 34
        }
      },
      "source": [
        "# Usando variáveis para definir novas variáveis\n",
        "\n",
        "x = 10\n",
        "y = 20\n",
        "z = x + y + x*y\n",
        "\n",
        "print(z)"
      ],
      "execution_count": 0,
      "outputs": [
        {
          "output_type": "stream",
          "text": [
            "230\n"
          ],
          "name": "stdout"
        }
      ]
    },
    {
      "cell_type": "markdown",
      "metadata": {
        "id": "DszGv1lRzRuh",
        "colab_type": "text"
      },
      "source": [
        "# Exercício\n",
        "No seu notebook. experimente escrever:\n",
        "```\n",
        "x, y = 2, 3\n",
        "print(x, y)\n",
        "```\n",
        "Também teste:\n",
        "```\n",
        "x = y = 6\n",
        "print(x, y)\n",
        "```\n",
        "\n"
      ]
    },
    {
      "cell_type": "code",
      "metadata": {
        "id": "nVr8eDIGxLbd",
        "colab_type": "code",
        "outputId": "c41186e3-0fd9-4227-b7df-c161f0954c78",
        "colab": {
          "base_uri": "https://localhost:8080/",
          "height": 50
        }
      },
      "source": [
        "x, y = 2, 3    # Equivale a x = 2 e y = 3\n",
        "print(x, y)\n",
        "x = y = 6\n",
        "print(x, y)    # Equivale a x = 5 e y = 5"
      ],
      "execution_count": 0,
      "outputs": [
        {
          "output_type": "stream",
          "text": [
            "2 3\n",
            "6 6\n"
          ],
          "name": "stdout"
        }
      ]
    },
    {
      "cell_type": "code",
      "metadata": {
        "id": "3Fv5ARnIHIfi",
        "colab_type": "code",
        "outputId": "3ab7d225-8329-4f0c-bc93-497d62759ec6",
        "colab": {
          "base_uri": "https://localhost:8080/",
          "height": 101
        }
      },
      "source": [
        "# Você pode atualizar uma variável usando ela mesma\n",
        "\n",
        "z = 100\n",
        "z = z/10  # z = 10\n",
        "print (z)\n",
        "\n",
        "z /= 10   # Equivalente a z = z/10 -> z = 1\n",
        "print(z)\n",
        "\n",
        "z += 4    # Equivalente a z = z+4\n",
        "print(z)\n",
        "\n",
        "z *= 2    # z = z*2 \n",
        "print(z)\n",
        "\n",
        "print(20%3)"
      ],
      "execution_count": 0,
      "outputs": [
        {
          "output_type": "stream",
          "text": [
            "10.0\n",
            "1.0\n",
            "5.0\n",
            "10.0\n",
            "2\n"
          ],
          "name": "stdout"
        }
      ]
    },
    {
      "cell_type": "markdown",
      "metadata": {
        "id": "WNS7rZDm0EuK",
        "colab_type": "text"
      },
      "source": [
        "# Atenção aos programadores C/C++\n",
        "\n",
        "Python não implementa operadores de incremento e decremento:\n",
        "\n",
        "```\n",
        "x++         # Syntax erro\n",
        "++x         # Apenas o operador + duas vezes: não faz nada.\n",
        "--x         # Apenas o operador - duas vezes: não faz nada.\n",
        "```\n",
        "\n",
        "Você deve escrever:\n",
        "```\n",
        "x += 1      # ou x = x + 1\n",
        "x -= 1      # ou x = x - 1\n",
        "``` \n",
        "\n",
        "\n"
      ]
    },
    {
      "cell_type": "code",
      "metadata": {
        "id": "LhLa12Ym_Byk",
        "colab_type": "code",
        "outputId": "de11d532-c846-4bd9-ccd8-b56ffcae9f99",
        "colab": {
          "base_uri": "https://localhost:8080/",
          "height": 34
        }
      },
      "source": [
        "# Strings\n",
        "\n",
        "str1 = 'Eu amo'\n",
        "str2 = ' Python'\n",
        "\n",
        "str3 = str1+str2      # Concatena duas strings\n",
        "\n",
        "print(str3, str4)"
      ],
      "execution_count": 0,
      "outputs": [
        {
          "output_type": "stream",
          "text": [
            "Eu amo Python 50 cinquenta\n"
          ],
          "name": "stdout"
        }
      ]
    },
    {
      "cell_type": "markdown",
      "metadata": {
        "id": "86BcAqnd03B9",
        "colab_type": "text"
      },
      "source": [
        "# Notação de strings\n",
        "Você também usar aspas (\") com mesmo valor:\n",
        "```\n",
        "str1 = \"Eu amo\"\n",
        "```"
      ]
    },
    {
      "cell_type": "code",
      "metadata": {
        "id": "NTA7Pf6Z_aMa",
        "colab_type": "code",
        "outputId": "8a3dbd26-e766-44ac-c32f-9baa8a9a2d00",
        "colab": {
          "base_uri": "https://localhost:8080/",
          "height": 71
        }
      },
      "source": [
        "# Você pode extrair pedaços de uma string usando colchetes\n",
        "\n",
        "# Extrair uma fatia com 5 elementos, começando na posição 2 e terminando na posição 5.\n",
        "str3 = \"Internet\"\n",
        "str4 = str3[1:6]    # O primeiro elemento tem índice 0.\n",
        "                    # O conjunto é aberto à direita, isto é, o elemento na posição 6 não é incluído.\n",
        "\n",
        "print(str4)\n",
        "\n",
        "\n",
        "# Para extrair um único elemento:\n",
        "str5 = str3[0]  #Primeiro elemento\n",
        "str6 = str3[-1] #Último elemento\n",
        "\n",
        "print(str5, str6)\n",
        "\n",
        "\n",
        "# Extrair o final de uma string\n",
        "print(str3[7:])"
      ],
      "execution_count": 0,
      "outputs": [
        {
          "output_type": "stream",
          "text": [
            "u amo\n",
            "E n\n",
            "Python\n"
          ],
          "name": "stdout"
        }
      ]
    },
    {
      "cell_type": "code",
      "metadata": {
        "id": "0EQOupjCSrae",
        "colab_type": "code",
        "outputId": "bbdf4c01-5973-42c6-c0ed-56be88c652e5",
        "colab": {
          "base_uri": "https://localhost:8080/",
          "height": 34
        }
      },
      "source": [
        "# Comprimento de uma string\n",
        "\n",
        "str = 'Computador'\n",
        "    #   0123456789\n",
        "\n",
        "print(len(str))"
      ],
      "execution_count": 0,
      "outputs": [
        {
          "output_type": "stream",
          "text": [
            "10\n"
          ],
          "name": "stdout"
        }
      ]
    },
    {
      "cell_type": "markdown",
      "metadata": {
        "id": "HixL_sA2I8KL",
        "colab_type": "text"
      },
      "source": [
        "O Python possui diversos módulos que trazem implementações prontas para diversas aplicações. Exemplos:\n",
        "\n",
        "* Numpy: Módulo para computação científica\n",
        "* Scipy: Outras funcionalidades para computação científica\n",
        "* MatPlotLib: Traçado de gráficos\n",
        "* Pandas: Análise de dados\n",
        "* Statsmodels: Módulo estatístico"
      ]
    },
    {
      "cell_type": "code",
      "metadata": {
        "id": "EMFdwMIEQSLr",
        "colab_type": "code",
        "outputId": "f89024d4-313a-468d-d775-a64e1cf71f5e",
        "colab": {
          "base_uri": "https://localhost:8080/",
          "height": 34
        }
      },
      "source": [
        "import numpy as np# Use np.NOME_DA_FUNÇÃO\n",
        "\n",
        "x = np.exp(2)  # Exponencial natural\n",
        "y = np.sin(10) # Seno\n",
        "z = np.log(x) # Logaritmo natural\n",
        "\n",
        "print(x, y, z)"
      ],
      "execution_count": 0,
      "outputs": [
        {
          "output_type": "stream",
          "text": [
            "7.38905609893065 -0.5440211108893698 2.0\n"
          ],
          "name": "stdout"
        }
      ]
    },
    {
      "cell_type": "code",
      "metadata": {
        "id": "LoiNcIObRzYT",
        "colab_type": "code",
        "outputId": "c8f8804f-464d-4bb3-df52-5f4e8a5aa816",
        "colab": {
          "base_uri": "https://localhost:8080/",
          "height": 34
        }
      },
      "source": [
        "# Você pode compor funções\n",
        "\n",
        "x = np.exp(np.log(10) + np.log(2)) #e^(ln(10) + ln(2)) = e^(ln(20))=20\n",
        "\n",
        "print(x)"
      ],
      "execution_count": 0,
      "outputs": [
        {
          "output_type": "stream",
          "text": [
            "20.000000000000007\n"
          ],
          "name": "stdout"
        }
      ]
    },
    {
      "cell_type": "code",
      "metadata": {
        "id": "bBk3P9jJbXaT",
        "colab_type": "code",
        "outputId": "f1509b95-8304-4c55-a8e0-a560c6d4d0f8",
        "colab": {
          "base_uri": "https://localhost:8080/",
          "height": 35
        }
      },
      "source": [
        "# A bibliota Numpy também provê algumas contantes\n",
        "\n",
        "print(np.pi, np.e, np.euler_gamma)\n"
      ],
      "execution_count": 0,
      "outputs": [
        {
          "output_type": "stream",
          "text": [
            "3.141592653589793 2.718281828459045 0.5772156649015329\n"
          ],
          "name": "stdout"
        }
      ]
    },
    {
      "cell_type": "markdown",
      "metadata": {
        "id": "FdUNmVCL-dB0",
        "colab_type": "text"
      },
      "source": [
        "# Exercício:\n",
        "Implemente a expressão:\n",
        "\n",
        "$y = \\frac{1}{x\\sqrt{1+x^2}}$ \n",
        "\n",
        "Calcule para $x=10$.\n",
        "\n",
        "Dica: Atente às prioridades e np.sqrt()."
      ]
    },
    {
      "cell_type": "code",
      "metadata": {
        "id": "NSi-DLNQ82-z",
        "colab_type": "code",
        "outputId": "b37e0107-e02e-440f-d3a1-8d45fded5f30",
        "colab": {
          "base_uri": "https://localhost:8080/",
          "height": 67
        }
      },
      "source": [
        "x = 10\n",
        "y = 1/(x*np.sqrt(1 + x**2))\n",
        "\n",
        "print(y)\n",
        "y = 1/(x*(1 + x**2)**(1/2))\n",
        "print(y)\n",
        "\n",
        "print(2^3, 2**3)"
      ],
      "execution_count": 0,
      "outputs": [
        {
          "output_type": "stream",
          "text": [
            "0.00995037190209989\n",
            "0.00995037190209989\n",
            "1 8\n"
          ],
          "name": "stdout"
        }
      ]
    },
    {
      "cell_type": "markdown",
      "metadata": {
        "id": "fFZxC1lySW0k",
        "colab_type": "text"
      },
      "source": [
        "# Dados estruturados\n",
        "* Listas\n",
        "* Conjuntos\n",
        "* Dicionários\n",
        "* Strings\n",
        "* Conjuntos\n",
        "* Tuplas\n",
        "* Etc"
      ]
    },
    {
      "cell_type": "code",
      "metadata": {
        "id": "Q1A4ivJTTixY",
        "colab_type": "code",
        "outputId": "2fb5ef04-1b90-471e-ed1d-ce346bd2d160",
        "colab": {
          "base_uri": "https://localhost:8080/",
          "height": 71
        }
      },
      "source": [
        "# Definindo uma lista\n",
        "\n",
        "primos = [2, 3, 5, 7, 11, 13]\n",
        "\n",
        "print(primos)\n",
        "\n",
        "print(primos[0]) # Primeiro elemento\n",
        "\n",
        "print(primos[3:]) # Últimos elementos desde a posição 3"
      ],
      "execution_count": 0,
      "outputs": [
        {
          "output_type": "stream",
          "text": [
            "[2, 3, 5, 7, 11, 13]\n",
            "2\n",
            "[7, 11, 13]\n"
          ],
          "name": "stdout"
        }
      ]
    },
    {
      "cell_type": "code",
      "metadata": {
        "id": "iKouy3n4UWIX",
        "colab_type": "code",
        "outputId": "883e669d-3ba2-4b97-9292-52615c1d4ecf",
        "colab": {
          "base_uri": "https://localhost:8080/",
          "height": 35
        }
      },
      "source": [
        "# Concatenar listas\n",
        "\n",
        "lista1 = [1, 2, 3, 4]\n",
        "lista2 = [5, 6, 7]\n",
        "lista3 = lista1 + lista2 # Atenção, não é soma elemento a elemento\n",
        "\n",
        "print(lista3)"
      ],
      "execution_count": 0,
      "outputs": [
        {
          "output_type": "stream",
          "text": [
            "[1, 2, 3, 4, 5, 6, 7]\n"
          ],
          "name": "stdout"
        }
      ]
    },
    {
      "cell_type": "code",
      "metadata": {
        "id": "y4mDHDx5U0M4",
        "colab_type": "code",
        "outputId": "64aaf329-08ce-4493-c41b-65225ec9f92e",
        "colab": {
          "base_uri": "https://localhost:8080/",
          "height": 35
        }
      },
      "source": [
        "# Inserir elementos a uma lista\n",
        "\n",
        "lista = [1, 0.5, 0.25]\n",
        "lista.append(0.125) # Insere na última posição\n",
        "\n",
        "print(lista)"
      ],
      "execution_count": 0,
      "outputs": [
        {
          "output_type": "stream",
          "text": [
            "[1, 0.5, 0.25, 0.125]\n"
          ],
          "name": "stdout"
        }
      ]
    },
    {
      "cell_type": "code",
      "metadata": {
        "id": "0_bosv0NVRJs",
        "colab_type": "code",
        "outputId": "711c69a0-f11b-4516-9f75-90efe4bea8bc",
        "colab": {
          "base_uri": "https://localhost:8080/",
          "height": 35
        }
      },
      "source": [
        "# Inserir elemento em dada posição\n",
        "\n",
        "lista = [0, 2, 4, 8]\n",
        "lista.insert(3, 6)  # Posição e elemento\n",
        "\n",
        "print(lista)"
      ],
      "execution_count": 0,
      "outputs": [
        {
          "output_type": "stream",
          "text": [
            "[0, 2, 4, 6, 8]\n"
          ],
          "name": "stdout"
        }
      ]
    },
    {
      "cell_type": "code",
      "metadata": {
        "id": "RBKJKAwoVxJn",
        "colab_type": "code",
        "outputId": "942a2ddd-67b7-4721-a2e9-dd758bc9750f",
        "colab": {
          "base_uri": "https://localhost:8080/",
          "height": 35
        }
      },
      "source": [
        "# Remover elemento em dada posição\n",
        "\n",
        "lista.pop(3)    # Remove elemento na posição 3\n",
        "print(lista)"
      ],
      "execution_count": 0,
      "outputs": [
        {
          "output_type": "stream",
          "text": [
            "[0, 2, 4, 8]\n"
          ],
          "name": "stdout"
        }
      ]
    },
    {
      "cell_type": "code",
      "metadata": {
        "id": "JVjwK0myWa6i",
        "colab_type": "code",
        "outputId": "44aa97b8-7629-4183-8e0c-ea453892e6db",
        "colab": {
          "base_uri": "https://localhost:8080/",
          "height": 35
        }
      },
      "source": [
        "# Listas podem conter elementos de tipos distintos\n",
        "\n",
        "lista = [1, 'Python', 2.3]\n",
        "print(lista)"
      ],
      "execution_count": 0,
      "outputs": [
        {
          "output_type": "stream",
          "text": [
            "[1, 'Python', 2.3]\n"
          ],
          "name": "stdout"
        }
      ]
    },
    {
      "cell_type": "code",
      "metadata": {
        "id": "jpUZ18XH33vM",
        "colab_type": "code",
        "outputId": "a0aa1db7-b317-4d3d-933d-320af64a846a",
        "colab": {
          "base_uri": "https://localhost:8080/",
          "height": 35
        }
      },
      "source": [
        "# Tamanho de uma lista\n",
        "\n",
        "lista = [1, 2, 3, 4, 5]\n",
        "print(len(lista))"
      ],
      "execution_count": 0,
      "outputs": [
        {
          "output_type": "stream",
          "text": [
            "5\n"
          ],
          "name": "stdout"
        }
      ]
    },
    {
      "cell_type": "code",
      "metadata": {
        "id": "yt8Cx2lvWn1-",
        "colab_type": "code",
        "outputId": "f4106544-c414-4d8f-935b-1b484a379246",
        "colab": {
          "base_uri": "https://localhost:8080/",
          "height": 35
        }
      },
      "source": [
        "# Listas podem conter listas\n",
        "\n",
        "lista = [1, 2, [3, 4]]\n",
        "print(lista, lista[2][0])"
      ],
      "execution_count": 0,
      "outputs": [
        {
          "output_type": "stream",
          "text": [
            "[1, 2, [3, 4]] 3\n"
          ],
          "name": "stdout"
        }
      ]
    },
    {
      "cell_type": "code",
      "metadata": {
        "id": "9i7dnBWmXO6e",
        "colab_type": "code",
        "outputId": "f2d7f06b-9259-44c8-8ca5-13e74e195599",
        "colab": {
          "base_uri": "https://localhost:8080/",
          "height": 35
        }
      },
      "source": [
        "# Construindo listas a partir de outras listas\n",
        "# Compreensão de listas\n",
        "\n",
        "lista1 = [-1, -2, 1, 2, 3, 4]\n",
        "\n",
        "lista2 = [2*i for i in lista1]\n",
        "# A lista2 é formada pelo dobro de cada elemento da lista1.\n",
        "# Lê-se 2*i para i em lista (notação usual de conjunto em matemática)\n",
        "\n",
        "print(lista2)"
      ],
      "execution_count": 0,
      "outputs": [
        {
          "output_type": "stream",
          "text": [
            "[-2, -4, 2, 4, 6, 8]\n"
          ],
          "name": "stdout"
        }
      ]
    },
    {
      "cell_type": "code",
      "metadata": {
        "id": "7T1OhGqpXwCx",
        "colab_type": "code",
        "outputId": "33be62fe-db99-4a42-ee45-aafc0b5d7883",
        "colab": {
          "base_uri": "https://localhost:8080/",
          "height": 53
        }
      },
      "source": [
        "# Exemplos de compreensão de listas\n",
        "\n",
        "lista3 = [np.sin(i) for i in lista1]\n",
        "print(lista3)\n",
        "\n",
        "lista4 = [np.log(i) for i in lista1 if i > 0]\n",
        "# A lista4 é formada pelo logaritmo de cada elemento da lista1 maior que 0.\n",
        "# Lê-se logaritmo de i para i em lista se i maior que 0.\n",
        "\n",
        "print(lista4)"
      ],
      "execution_count": 0,
      "outputs": [
        {
          "output_type": "stream",
          "text": [
            "[-0.8414709848078965, -0.9092974268256817, 0.8414709848078965, 0.9092974268256817, 0.1411200080598672, -0.7568024953079282]\n",
            "[0.0, 0.6931471805599453, 1.0986122886681098, 1.3862943611198906]\n"
          ],
          "name": "stdout"
        }
      ]
    },
    {
      "cell_type": "markdown",
      "metadata": {
        "id": "s0ZurzVC23jA",
        "colab_type": "text"
      },
      "source": [
        "# Exercício 1\n",
        "\n",
        "A partir da lista\n",
        "\n",
        "```\n",
        "numeros = [1, 2, 3, 4, 5, 6]\n",
        "```\n",
        "construa a lista com os cubos dos 6 primeiros inteiros positivos.\n",
        "\n",
        "# Exercício 2\n",
        "\n",
        "Agora construa a lista com os cubos dos 6 primeiros inteiros positivos cujo seno é positivo.\n"
      ]
    },
    {
      "cell_type": "code",
      "metadata": {
        "id": "8FEWKUll7EV5",
        "colab_type": "code",
        "outputId": "966b1e13-5070-4e88-90e5-0a8c05697b0b",
        "colab": {
          "base_uri": "https://localhost:8080/",
          "height": 35
        }
      },
      "source": [
        "# Somando elementos de uma lista\n",
        "\n",
        "lista = [1, 2, 3, 4]\n",
        "print(sum(lista))"
      ],
      "execution_count": 0,
      "outputs": [
        {
          "output_type": "stream",
          "text": [
            "10\n"
          ],
          "name": "stdout"
        }
      ]
    },
    {
      "cell_type": "code",
      "metadata": {
        "id": "jmkrmLDHYjBA",
        "colab_type": "code",
        "outputId": "d5140a0b-5a6b-43e8-8f4d-403a42f14cf6",
        "colab": {
          "base_uri": "https://localhost:8080/",
          "height": 89
        }
      },
      "source": [
        "# Operador de comparação para números\n",
        "# Igualdade: ==\n",
        "# Iniqualdade: !=\n",
        "# Comparação: >, <, >=, <=\n",
        "\n",
        "#Exemplos\n",
        "\n",
        "print(2 > 3)\n",
        "print(2 < 3)\n",
        "print(2 == 3)\n",
        "print(2 != 3)"
      ],
      "execution_count": 0,
      "outputs": [
        {
          "output_type": "stream",
          "text": [
            "False\n",
            "True\n",
            "False\n",
            "True\n"
          ],
          "name": "stdout"
        }
      ]
    },
    {
      "cell_type": "code",
      "metadata": {
        "id": "8UbuSk5xZZfm",
        "colab_type": "code",
        "outputId": "6d7c771d-8bfe-4c81-b7ae-e211f1f1941a",
        "colab": {
          "base_uri": "https://localhost:8080/",
          "height": 126
        }
      },
      "source": [
        "# Operadores lógicos\n",
        "# Disjunção (ou): or\n",
        "# Conjuntio (e): and\n",
        "# Negação: not\n",
        "\n",
        "print(2 > 3 and 3 < 4)\n",
        "print(2 > 3 or 3 < 4)\n",
        "print(not True)\n",
        "print(not 2 == 3)\n",
        "print(not (2 > 3 or 3 < 4))\n",
        "print(not 2 > 3 or 3 < 4)    # not tem preferêcia sobre or e and."
      ],
      "execution_count": 0,
      "outputs": [
        {
          "output_type": "stream",
          "text": [
            "False\n",
            "True\n",
            "False\n",
            "True\n",
            "False\n",
            "True\n"
          ],
          "name": "stdout"
        }
      ]
    },
    {
      "cell_type": "code",
      "metadata": {
        "id": "iXRU8GxDdH7f",
        "colab_type": "code",
        "outputId": "e95837e8-0d3a-4073-bb78-81c9e0905b1a",
        "colab": {
          "base_uri": "https://localhost:8080/",
          "height": 107
        }
      },
      "source": [
        "# E como ficam as string?\n",
        "\n",
        "print('UFRGS' == 'UFRGS')\n",
        "print('UFRGS' == 'UFR')\n",
        "print('UFRGS' != 'UFR')\n",
        "print('UF' in 'UFRGS')      # Está contido?\n",
        "print('UF' not in 'UFRGS')  # Não está contido?"
      ],
      "execution_count": 0,
      "outputs": [
        {
          "output_type": "stream",
          "text": [
            "True\n",
            "False\n",
            "True\n",
            "True\n",
            "False\n"
          ],
          "name": "stdout"
        }
      ]
    },
    {
      "cell_type": "code",
      "metadata": {
        "id": "YtMZFxxSf5VO",
        "colab_type": "code",
        "outputId": "88180745-328a-49c9-a8a1-e1a062def2b8",
        "colab": {
          "base_uri": "https://localhost:8080/",
          "height": 162
        }
      },
      "source": [
        "# Mais exemplos\n",
        "\n",
        "x = 'Matemática Aplicada'\n",
        "y = 'Matemática Pura'\n",
        "\n",
        "print(x == y)\n",
        "print(x[0:2] == 'Ma')\n",
        "print(x[0:2] == 'ma')\n",
        "print(x[0:10] == y[0:10])\n",
        "print(x[0:12] == y[0:12])\n",
        "print(x > y) # Ordem lexicográfica\n",
        "print('A' < 'a')\n",
        "print('1' < 'A')"
      ],
      "execution_count": 0,
      "outputs": [
        {
          "output_type": "stream",
          "text": [
            "False\n",
            "True\n",
            "False\n",
            "True\n",
            "False\n",
            "False\n",
            "True\n",
            "True\n"
          ],
          "name": "stdout"
        }
      ]
    },
    {
      "cell_type": "markdown",
      "metadata": {
        "id": "2MV2LCr34XTs",
        "colab_type": "text"
      },
      "source": [
        "# Comandos de repetição\n",
        "O Python possui duas estruturas de repetição:\n",
        "* for: para executar o código em um conjunto pré-determinado de valores.\n",
        "* while: para executar enquanto uma dada condição for verdadeira.\n",
        "\n",
        "**Vamos começar pelo comento for**\n"
      ]
    },
    {
      "cell_type": "code",
      "metadata": {
        "id": "QLhiKLx66UCM",
        "colab_type": "code",
        "outputId": "8e280f1b-02b7-4c62-c0ff-80471a7d98c8",
        "colab": {
          "base_uri": "https://localhost:8080/",
          "height": 71
        }
      },
      "source": [
        "# Comando for\n",
        "lista = [1, 2, 4]\n",
        "\n",
        "for x in lista:      # Termine com dois pontos(:)\n",
        "    print(x)         # Indente os comandos que serão repetidos"
      ],
      "execution_count": 0,
      "outputs": [
        {
          "output_type": "stream",
          "text": [
            "1\n",
            "2\n",
            "4\n"
          ],
          "name": "stdout"
        }
      ]
    },
    {
      "cell_type": "code",
      "metadata": {
        "id": "R3dzsmBn6djz",
        "colab_type": "code",
        "outputId": "2b162907-0b1b-4c24-8972-591f01c34bc9",
        "colab": {
          "base_uri": "https://localhost:8080/",
          "height": 89
        }
      },
      "source": [
        "# Outro exemplo:\n",
        "\n",
        "contador = 0\n",
        "for x in lista:\n",
        "    contador += 1\n",
        "    y = x+3\n",
        "    print(x, y)\n",
        "\n",
        "print(contador)  # Retorne a indentação quando terminar o bloco a ser repetido."
      ],
      "execution_count": 0,
      "outputs": [
        {
          "output_type": "stream",
          "text": [
            "1 4\n",
            "2 5\n",
            "4 7\n",
            "3\n"
          ],
          "name": "stdout"
        }
      ]
    },
    {
      "cell_type": "code",
      "metadata": {
        "id": "S3szLyZl675C",
        "colab_type": "code",
        "outputId": "a40e3e87-7492-46fd-e702-36c1d0fc5f2e",
        "colab": {
          "base_uri": "https://localhost:8080/",
          "height": 71
        }
      },
      "source": [
        "# Calcula fatorial:\n",
        "\n",
        "fatorial = 1\n",
        "n = 3\n",
        "\n",
        "for i in range(1, n+1):   # Observe o objeto range\n",
        "    fatorial *= i \n",
        "    print(\"i = \", i, \"- fatorial = \", fatorial)"
      ],
      "execution_count": 0,
      "outputs": [
        {
          "output_type": "stream",
          "text": [
            "i =  1 - fatorial =  1\n",
            "i =  2 - fatorial =  2\n",
            "i =  3 - fatorial =  6\n"
          ],
          "name": "stdout"
        }
      ]
    },
    {
      "cell_type": "code",
      "metadata": {
        "id": "S4Etz6yW-Q3O",
        "colab_type": "code",
        "outputId": "09f2c7aa-c136-4914-f20f-f011992f9cf3",
        "colab": {
          "base_uri": "https://localhost:8080/",
          "height": 144
        }
      },
      "source": [
        "# Exemplo com strings:\n",
        "\n",
        "str = 'Alegria'\n",
        "for c in str:   # Itera nos caracteres da string\n",
        "    print(c)\n"
      ],
      "execution_count": 0,
      "outputs": [
        {
          "output_type": "stream",
          "text": [
            "A\n",
            "l\n",
            "e\n",
            "g\n",
            "r\n",
            "i\n",
            "a\n"
          ],
          "name": "stdout"
        }
      ]
    },
    {
      "cell_type": "code",
      "metadata": {
        "id": "a3PP_bDPAN7r",
        "colab_type": "code",
        "outputId": "fe8baf5b-c0e1-4b65-8121-b7615403c17b",
        "colab": {
          "base_uri": "https://localhost:8080/",
          "height": 144
        }
      },
      "source": [
        "# Mais um exemplo:\n",
        "\n",
        "str = 'Teclado'\n",
        "\n",
        "for i in range(1, 8):\n",
        "    print(str[0:i])"
      ],
      "execution_count": 0,
      "outputs": [
        {
          "output_type": "stream",
          "text": [
            "T\n",
            "Te\n",
            "Tec\n",
            "Tecl\n",
            "Tecla\n",
            "Teclad\n",
            "Teclado\n"
          ],
          "name": "stdout"
        }
      ]
    },
    {
      "cell_type": "markdown",
      "metadata": {
        "id": "9w2lPU4qAmlU",
        "colab_type": "text"
      },
      "source": [
        "# Exercício\n",
        "\n",
        "* A rotina acima funciona porque 'Teclado' tem 7 letras. Adapte-a para funcionar com strings de qualquer tamanho.\n",
        "\n",
        "* Escreva um algoritmo para calcular:\n",
        "\n",
        "> $S = \\displaystyle\\sum_{j=1}^{100} \\frac{1}{j^2} =  \\frac{1}{1^2} + \\frac{1}{2^2} + \\frac{1}{3^2}+\\cdots + \\frac{1}{100^2}$\n",
        "\n",
        "\n",
        "\n",
        "\n"
      ]
    },
    {
      "cell_type": "markdown",
      "metadata": {
        "id": "YXvg4y6KEAnw",
        "colab_type": "text"
      },
      "source": [
        "# Comandos de seleção\n",
        "\n",
        "No python existem os comandos if, else e elif \n"
      ]
    },
    {
      "cell_type": "code",
      "metadata": {
        "id": "ZVdcHii5E0QC",
        "colab_type": "code",
        "outputId": "0b976785-4464-421f-9479-29b6ee19fa61",
        "colab": {
          "base_uri": "https://localhost:8080/",
          "height": 35
        }
      },
      "source": [
        "# Exemplo com if\n",
        "\n",
        "x = 10     # No seu notebook, teste alterar o valor de x e rode a célula novamente\n",
        "\n",
        "if x > 4:  # Usar dois pontos (:)\n",
        "    print(\"x é maior que 4.\")        # Indentar"
      ],
      "execution_count": 0,
      "outputs": [
        {
          "output_type": "stream",
          "text": [
            "x é maior que 4.\n"
          ],
          "name": "stdout"
        }
      ]
    },
    {
      "cell_type": "code",
      "metadata": {
        "id": "FH9MzJSCG2bF",
        "colab_type": "code",
        "outputId": "3e33379c-b916-4985-d240-f615bccc48c0",
        "colab": {
          "base_uri": "https://localhost:8080/",
          "height": 35
        }
      },
      "source": [
        "# Outro exemplo\n",
        "\n",
        "x = 10\n",
        "y = 2\n",
        "\n",
        "if x > 4 and y < 4:\n",
        "    print(\"x é maior que 4 e y é menor que 4.\")"
      ],
      "execution_count": 0,
      "outputs": [
        {
          "output_type": "stream",
          "text": [
            "x é maior que 4 e y é menor que 4.\n"
          ],
          "name": "stdout"
        }
      ]
    },
    {
      "cell_type": "code",
      "metadata": {
        "id": "HTkMMe7dShsp",
        "colab_type": "code",
        "outputId": "96b3cede-623a-4a00-b41b-465cdc34954b",
        "colab": {
          "base_uri": "https://localhost:8080/",
          "height": 35
        }
      },
      "source": [
        "# if e else\n",
        "\n",
        "x = 2\n",
        "\n",
        "if x > 4:\n",
        "    print(\"x é maior que 4.\")\n",
        "else:\n",
        "    print(\"x não é maior que 4.\") # Executa se condição é falsa"
      ],
      "execution_count": 0,
      "outputs": [
        {
          "output_type": "stream",
          "text": [
            "x não é maior que 4.\n"
          ],
          "name": "stdout"
        }
      ]
    },
    {
      "cell_type": "code",
      "metadata": {
        "id": "Q9peTRl9S4jW",
        "colab_type": "code",
        "outputId": "6f0fe563-5618-409a-88ad-6cf1b4b3dcc6",
        "colab": {
          "base_uri": "https://localhost:8080/",
          "height": 35
        }
      },
      "source": [
        "# if, elif e else\n",
        "\n",
        "x = 2\n",
        "\n",
        "if x > 4:\n",
        "    print(\"x é maior que 4.\")\n",
        "elif x == 4:                        \n",
        "    print(\"x é igual a 4.\") # Se a primeira condição é falsa e a outra é verdadeira\n",
        "else:\n",
        "    print(\"x menor que 4.\") # Se ambas condições são falsas\n",
        "\n",
        "# Dica: você pode usar quantos elif's forem necessários."
      ],
      "execution_count": 0,
      "outputs": [
        {
          "output_type": "stream",
          "text": [
            "x menor que 4.\n"
          ],
          "name": "stdout"
        }
      ]
    },
    {
      "cell_type": "code",
      "metadata": {
        "id": "ozGuUZsfUhv-",
        "colab_type": "code",
        "outputId": "f35ded27-d6c0-4825-c2fc-ad77634ad274",
        "colab": {
          "base_uri": "https://localhost:8080/",
          "height": 53
        }
      },
      "source": [
        "# Operador ternário\n",
        "\n",
        "x = 3\n",
        "y = 'x é Positivo' if x > 0 else 'x não é positivo'\n",
        "print(y)\n",
        "\n",
        "x = -2\n",
        "y = 'x é Positivo' if x > 0 else 'x não é positivo'\n",
        "print(y)"
      ],
      "execution_count": 0,
      "outputs": [
        {
          "output_type": "stream",
          "text": [
            "x é Positivo\n",
            "x não é positivo\n"
          ],
          "name": "stdout"
        }
      ]
    },
    {
      "cell_type": "markdown",
      "metadata": {
        "id": "FFCcERI1bfEl",
        "colab_type": "text"
      },
      "source": [
        "# Exercício\n",
        "\n",
        "* Como você interpreta o código dado por:\n",
        "```\n",
        "z = x if x > y else y\n",
        "```\n",
        "\n",
        "* Quanto vale z quando x = 2 e y = 7?"
      ]
    },
    {
      "cell_type": "markdown",
      "metadata": {
        "id": "8_88KH76VwWn",
        "colab_type": "text"
      },
      "source": [
        "# Aninhamento de for e if\n",
        "\n",
        "Pode-se aninhar (colocar um dentro do outro) comandos for e if.\n",
        "\n",
        "\n",
        "\n",
        "```\n",
        "for x in A:\n",
        "    if condição:\n",
        "        alguma coisa # aumentar um nível de indentaçao\n",
        "```\n",
        "\n",
        "Ou ainda aninhar um for dentro de um if:\n",
        "\n",
        "```\n",
        "if condição:\n",
        "    for x in A:\n",
        "        alguma coisa\n",
        "```\n"
      ]
    },
    {
      "cell_type": "code",
      "metadata": {
        "id": "9kMQv9wRWbWR",
        "colab_type": "code",
        "outputId": "28da9ecc-9100-4571-ad85-cb319658780b",
        "colab": {
          "base_uri": "https://localhost:8080/",
          "height": 89
        }
      },
      "source": [
        "import numpy as np\n",
        "\n",
        "for x in [2, 3, 5, 7, 11, 13]:\n",
        "    if np.cos(x) > 0:\n",
        "        print(\"O cosseno de\", x, \"é positivo.\")"
      ],
      "execution_count": 0,
      "outputs": [
        {
          "output_type": "stream",
          "text": [
            "O cosseno de 5 é positivo.\n",
            "O cosseno de 7 é positivo.\n",
            "O cosseno de 11 é positivo.\n",
            "O cosseno de 13 é positivo.\n"
          ],
          "name": "stdout"
        }
      ]
    },
    {
      "cell_type": "code",
      "metadata": {
        "id": "pYizE_bJXPSn",
        "colab_type": "code",
        "outputId": "4c8bf2f7-bbe3-481b-b97a-a590fba03418",
        "colab": {
          "base_uri": "https://localhost:8080/",
          "height": 107
        }
      },
      "source": [
        "# Mostra as vogais de uma string\n",
        "\n",
        "str = 'comunidade'\n",
        "\n",
        "for x in str:         # Itera nos caracteres da string\n",
        "    if x in 'abcde':\n",
        "        print(x)"
      ],
      "execution_count": 0,
      "outputs": [
        {
          "output_type": "stream",
          "text": [
            "c\n",
            "d\n",
            "a\n",
            "d\n",
            "e\n"
          ],
          "name": "stdout"
        }
      ]
    },
    {
      "cell_type": "markdown",
      "metadata": {
        "id": "DZ-Y8OLsXtRY",
        "colab_type": "text"
      },
      "source": [
        "# Exercício\n",
        "\n",
        "* Qual alteração você faria para mostrar as consoantes?\n",
        "* O código descrito não funciona com letras maiúsculas. Como você corrigiria?\n",
        "* O que você acha que acontece quando se roda o código a seguir?\n",
        "```\n",
        "str = 'comunidade'\n",
        "for x in str:\n",
        "    if x in 'abcde':\n",
        "        print(x)\n",
        "    print(\"Passei por aqui!\")\n",
        "```\n",
        "* Rode no seu espaço de trabalho e verifique."
      ]
    },
    {
      "cell_type": "code",
      "metadata": {
        "id": "iM_AHzDJa0Gz",
        "colab_type": "code",
        "outputId": "727f020b-a1d3-48b0-e40a-c3256a1bbf2e",
        "colab": {
          "base_uri": "https://localhost:8080/",
          "height": 53
        }
      },
      "source": [
        "# for dentro do if\n",
        "\n",
        "x = 2\n",
        "\n",
        "if x > 1:\n",
        "    for j in [1, 2]:\n",
        "        print(j)"
      ],
      "execution_count": 0,
      "outputs": [
        {
          "output_type": "stream",
          "text": [
            "1\n",
            "2\n"
          ],
          "name": "stdout"
        }
      ]
    },
    {
      "cell_type": "code",
      "metadata": {
        "id": "CL-UIgi6bFr2",
        "colab_type": "code",
        "outputId": "a1a453e2-7075-4525-de30-0d2e63b7cb3a",
        "colab": {
          "base_uri": "https://localhost:8080/",
          "height": 126
        }
      },
      "source": [
        "# for dentro de for\n",
        "\n",
        "for x in [0, 1, 2]:\n",
        "    for y in [10, 20]:\n",
        "        print(x + y)"
      ],
      "execution_count": 0,
      "outputs": [
        {
          "output_type": "stream",
          "text": [
            "10\n",
            "20\n",
            "11\n",
            "21\n",
            "12\n",
            "22\n"
          ],
          "name": "stdout"
        }
      ]
    },
    {
      "cell_type": "markdown",
      "metadata": {
        "id": "pAQJi2wtQJo4",
        "colab_type": "text"
      },
      "source": [
        "# Arrays do Numpy\n",
        "\n",
        "* A biblioteca Numpy implementa o objeto array.\n",
        "* Os arrays se assemelham às listas, mas possuem propriedades e métodos distintos.\n",
        "* https://docs.scipy.org/doc/numpy/reference/generated/numpy.array.html"
      ]
    },
    {
      "cell_type": "code",
      "metadata": {
        "id": "L49FkTVgQ5a-",
        "colab_type": "code",
        "outputId": "e1a5ecf6-c5e8-429b-8ee5-b1bb8427d601",
        "colab": {
          "base_uri": "https://localhost:8080/",
          "height": 34
        }
      },
      "source": [
        "import numpy as np\n",
        "\n",
        "x = np.array([1, 2, 3])\n",
        "\n",
        "print(x)"
      ],
      "execution_count": 0,
      "outputs": [
        {
          "output_type": "stream",
          "text": [
            "[1 2 3]\n"
          ],
          "name": "stdout"
        }
      ]
    },
    {
      "cell_type": "code",
      "metadata": {
        "id": "Vt1QKeTTRYU6",
        "colab_type": "code",
        "outputId": "0e54b346-49b9-4dcf-a8c4-c30ef9f24f82",
        "colab": {
          "base_uri": "https://localhost:8080/",
          "height": 34
        }
      },
      "source": [
        "# Operações envolvendo arrays se comportam diferente de listas\n",
        "\n",
        "x = np.array([1, 2, 3])\n",
        "y = np.array([2, 4, 3])\n",
        "\n",
        "u = x+y\n",
        "v = x*y\n",
        "w = np.concatenate((x, y))  # Atenção aos duplos parênteses. (x, y) significa um par ordenado.\n",
        "print(u, v, w)"
      ],
      "execution_count": 0,
      "outputs": [
        {
          "output_type": "stream",
          "text": [
            "[3 6 6] [2 8 9] [1 2 3 2 4 3]\n"
          ],
          "name": "stdout"
        }
      ]
    },
    {
      "cell_type": "code",
      "metadata": {
        "id": "CEb33hm7SxTO",
        "colab_type": "code",
        "outputId": "b73e9a2b-b9fc-4bfe-e57c-c61b80a600aa",
        "colab": {
          "base_uri": "https://localhost:8080/",
          "height": 34
        }
      },
      "source": [
        "# Métodos usuais\n",
        "\n",
        "x = np.array([2, 5, 7, 11, 13, 17, 19, 23, 29])\n",
        "\n",
        "media = x.mean()\n",
        "maximo = x.max()\n",
        "minimo = x.min()\n",
        "desvio_padrao = x.std()\n",
        "\n",
        "print(minimo, media, maximo, desvio_padrao)"
      ],
      "execution_count": 0,
      "outputs": [
        {
          "output_type": "stream",
          "text": [
            "2 14.0 29 8.32666399786453\n"
          ],
          "name": "stdout"
        }
      ]
    },
    {
      "cell_type": "code",
      "metadata": {
        "id": "ROY1odjNTzVv",
        "colab_type": "code",
        "outputId": "9168db3a-2923-4370-a398-dea83c39d82b",
        "colab": {
          "base_uri": "https://localhost:8080/",
          "height": 34
        }
      },
      "source": [
        "# Você pode iterar em um array\n",
        "\n",
        "x = np.array([2, 5, 7, 11, 13, 17, 19, 23, 29])\n",
        "\n",
        "s = 0\n",
        "\n",
        "for i in x:\n",
        "    s += i\n",
        "\n",
        "print(s)"
      ],
      "execution_count": 0,
      "outputs": [
        {
          "output_type": "stream",
          "text": [
            "126\n"
          ],
          "name": "stdout"
        }
      ]
    },
    {
      "cell_type": "code",
      "metadata": {
        "id": "uX-6M5fWUXyY",
        "colab_type": "code",
        "outputId": "529b8461-36a2-4c8f-c384-bcf68cfa3efa",
        "colab": {
          "base_uri": "https://localhost:8080/",
          "height": 70
        }
      },
      "source": [
        "# Você pode aplicar funções numpy a arrays\n",
        "x = np.array([2, 5, 7, 11, 13, 17, 19, 23, 29])\n",
        "\n",
        "y = x * np.pi / 10\n",
        "\n",
        "z = np.cos(y)    # Se você aplicasse a uma lista, teria o mesmo resultado\n",
        "                 # e a saída seria um array\n",
        "\n",
        "print(z)"
      ],
      "execution_count": 0,
      "outputs": [
        {
          "output_type": "stream",
          "text": [
            "[ 8.09016994e-01  6.12323400e-17 -5.87785252e-01 -9.51056516e-01\n",
            " -5.87785252e-01  5.87785252e-01  9.51056516e-01  5.87785252e-01\n",
            " -9.51056516e-01]\n"
          ],
          "name": "stdout"
        }
      ]
    }
  ]
}